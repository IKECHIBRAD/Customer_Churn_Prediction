{
 "cells": [
  {
   "cell_type": "markdown",
   "id": "15176172-7f08-47e8-bab3-d96864558c1e",
   "metadata": {},
   "source": [
    "# TELCO CUSTOMER CHURN DATASET"
   ]
  },
  {
   "cell_type": "markdown",
   "id": "038c8dd7-bc89-4949-8806-1e038cec646d",
   "metadata": {},
   "source": [
    "Customer churn in the telecommunications industry is a significant concern, impacting revenue and profitability.  This project aims to analyze customer data to identify factors contributing to churn and develop predictive models to proactively retain at-risk customers.  The goal is to provide actionable insights for targeted interventions, ultimately reducing churn rates and improving customer lifetime value.  By understanding churn drivers, the project seeks to inform strategic decision-making and enhance customer retention strategies."
   ]
  },
  {
   "cell_type": "code",
   "execution_count": 29,
   "id": "2b54b5d3-868b-4480-bb42-b928acd6c4d4",
   "metadata": {},
   "outputs": [],
   "source": [
    "#import libraries\n",
    "import pandas as pd\n",
    "import matplotlib.pyplot as plt\n",
    "import seaborn as sns\n",
    "from sklearn.metrics import accuracy_score\n",
    "from sklearn.model_selection import train_test_split\n",
    "from sklearn.linear_model import LogisticRegression\n",
    "from sklearn.tree import DecisionTreeClassifier\n",
    "from category_encoders import OneHotEncoder\n",
    "from category_encoders import OrdinalEncoder"
   ]
  },
  {
   "cell_type": "markdown",
   "id": "2c1db34c-d578-4840-b2e6-cd315ba68aed",
   "metadata": {},
   "source": [
    "# Prepare Data"
   ]
  },
  {
   "cell_type": "code",
   "execution_count": 3,
   "id": "9e1e0eb8-e851-47c5-9421-6d5d9dd8de8b",
   "metadata": {},
   "outputs": [],
   "source": [
    "def wrangle(data):\n",
    "    df = pd.read_csv(data)\n",
    "    return df"
   ]
  },
  {
   "cell_type": "code",
   "execution_count": 4,
   "id": "77278888-8e70-4cec-8f67-5f804c3ee6b1",
   "metadata": {},
   "outputs": [
    {
     "data": {
      "text/html": [
       "<div>\n",
       "<style scoped>\n",
       "    .dataframe tbody tr th:only-of-type {\n",
       "        vertical-align: middle;\n",
       "    }\n",
       "\n",
       "    .dataframe tbody tr th {\n",
       "        vertical-align: top;\n",
       "    }\n",
       "\n",
       "    .dataframe thead th {\n",
       "        text-align: right;\n",
       "    }\n",
       "</style>\n",
       "<table border=\"1\" class=\"dataframe\">\n",
       "  <thead>\n",
       "    <tr style=\"text-align: right;\">\n",
       "      <th></th>\n",
       "      <th>customerID</th>\n",
       "      <th>gender</th>\n",
       "      <th>SeniorCitizen</th>\n",
       "      <th>Partner</th>\n",
       "      <th>Dependents</th>\n",
       "      <th>tenure</th>\n",
       "      <th>PhoneService</th>\n",
       "      <th>MultipleLines</th>\n",
       "      <th>InternetService</th>\n",
       "      <th>OnlineSecurity</th>\n",
       "      <th>...</th>\n",
       "      <th>DeviceProtection</th>\n",
       "      <th>TechSupport</th>\n",
       "      <th>StreamingTV</th>\n",
       "      <th>StreamingMovies</th>\n",
       "      <th>Contract</th>\n",
       "      <th>PaperlessBilling</th>\n",
       "      <th>PaymentMethod</th>\n",
       "      <th>MonthlyCharges</th>\n",
       "      <th>TotalCharges</th>\n",
       "      <th>Churn</th>\n",
       "    </tr>\n",
       "  </thead>\n",
       "  <tbody>\n",
       "    <tr>\n",
       "      <th>0</th>\n",
       "      <td>7590-VHVEG</td>\n",
       "      <td>Female</td>\n",
       "      <td>0</td>\n",
       "      <td>Yes</td>\n",
       "      <td>No</td>\n",
       "      <td>1</td>\n",
       "      <td>No</td>\n",
       "      <td>No phone service</td>\n",
       "      <td>DSL</td>\n",
       "      <td>No</td>\n",
       "      <td>...</td>\n",
       "      <td>No</td>\n",
       "      <td>No</td>\n",
       "      <td>No</td>\n",
       "      <td>No</td>\n",
       "      <td>Month-to-month</td>\n",
       "      <td>Yes</td>\n",
       "      <td>Electronic check</td>\n",
       "      <td>29.85</td>\n",
       "      <td>29.85</td>\n",
       "      <td>No</td>\n",
       "    </tr>\n",
       "    <tr>\n",
       "      <th>1</th>\n",
       "      <td>5575-GNVDE</td>\n",
       "      <td>Male</td>\n",
       "      <td>0</td>\n",
       "      <td>No</td>\n",
       "      <td>No</td>\n",
       "      <td>34</td>\n",
       "      <td>Yes</td>\n",
       "      <td>No</td>\n",
       "      <td>DSL</td>\n",
       "      <td>Yes</td>\n",
       "      <td>...</td>\n",
       "      <td>Yes</td>\n",
       "      <td>No</td>\n",
       "      <td>No</td>\n",
       "      <td>No</td>\n",
       "      <td>One year</td>\n",
       "      <td>No</td>\n",
       "      <td>Mailed check</td>\n",
       "      <td>56.95</td>\n",
       "      <td>1889.5</td>\n",
       "      <td>No</td>\n",
       "    </tr>\n",
       "    <tr>\n",
       "      <th>2</th>\n",
       "      <td>3668-QPYBK</td>\n",
       "      <td>Male</td>\n",
       "      <td>0</td>\n",
       "      <td>No</td>\n",
       "      <td>No</td>\n",
       "      <td>2</td>\n",
       "      <td>Yes</td>\n",
       "      <td>No</td>\n",
       "      <td>DSL</td>\n",
       "      <td>Yes</td>\n",
       "      <td>...</td>\n",
       "      <td>No</td>\n",
       "      <td>No</td>\n",
       "      <td>No</td>\n",
       "      <td>No</td>\n",
       "      <td>Month-to-month</td>\n",
       "      <td>Yes</td>\n",
       "      <td>Mailed check</td>\n",
       "      <td>53.85</td>\n",
       "      <td>108.15</td>\n",
       "      <td>Yes</td>\n",
       "    </tr>\n",
       "    <tr>\n",
       "      <th>3</th>\n",
       "      <td>7795-CFOCW</td>\n",
       "      <td>Male</td>\n",
       "      <td>0</td>\n",
       "      <td>No</td>\n",
       "      <td>No</td>\n",
       "      <td>45</td>\n",
       "      <td>No</td>\n",
       "      <td>No phone service</td>\n",
       "      <td>DSL</td>\n",
       "      <td>Yes</td>\n",
       "      <td>...</td>\n",
       "      <td>Yes</td>\n",
       "      <td>Yes</td>\n",
       "      <td>No</td>\n",
       "      <td>No</td>\n",
       "      <td>One year</td>\n",
       "      <td>No</td>\n",
       "      <td>Bank transfer (automatic)</td>\n",
       "      <td>42.30</td>\n",
       "      <td>1840.75</td>\n",
       "      <td>No</td>\n",
       "    </tr>\n",
       "    <tr>\n",
       "      <th>4</th>\n",
       "      <td>9237-HQITU</td>\n",
       "      <td>Female</td>\n",
       "      <td>0</td>\n",
       "      <td>No</td>\n",
       "      <td>No</td>\n",
       "      <td>2</td>\n",
       "      <td>Yes</td>\n",
       "      <td>No</td>\n",
       "      <td>Fiber optic</td>\n",
       "      <td>No</td>\n",
       "      <td>...</td>\n",
       "      <td>No</td>\n",
       "      <td>No</td>\n",
       "      <td>No</td>\n",
       "      <td>No</td>\n",
       "      <td>Month-to-month</td>\n",
       "      <td>Yes</td>\n",
       "      <td>Electronic check</td>\n",
       "      <td>70.70</td>\n",
       "      <td>151.65</td>\n",
       "      <td>Yes</td>\n",
       "    </tr>\n",
       "  </tbody>\n",
       "</table>\n",
       "<p>5 rows × 21 columns</p>\n",
       "</div>"
      ],
      "text/plain": [
       "   customerID  gender  SeniorCitizen Partner Dependents  tenure PhoneService  \\\n",
       "0  7590-VHVEG  Female              0     Yes         No       1           No   \n",
       "1  5575-GNVDE    Male              0      No         No      34          Yes   \n",
       "2  3668-QPYBK    Male              0      No         No       2          Yes   \n",
       "3  7795-CFOCW    Male              0      No         No      45           No   \n",
       "4  9237-HQITU  Female              0      No         No       2          Yes   \n",
       "\n",
       "      MultipleLines InternetService OnlineSecurity  ... DeviceProtection  \\\n",
       "0  No phone service             DSL             No  ...               No   \n",
       "1                No             DSL            Yes  ...              Yes   \n",
       "2                No             DSL            Yes  ...               No   \n",
       "3  No phone service             DSL            Yes  ...              Yes   \n",
       "4                No     Fiber optic             No  ...               No   \n",
       "\n",
       "  TechSupport StreamingTV StreamingMovies        Contract PaperlessBilling  \\\n",
       "0          No          No              No  Month-to-month              Yes   \n",
       "1          No          No              No        One year               No   \n",
       "2          No          No              No  Month-to-month              Yes   \n",
       "3         Yes          No              No        One year               No   \n",
       "4          No          No              No  Month-to-month              Yes   \n",
       "\n",
       "               PaymentMethod MonthlyCharges  TotalCharges Churn  \n",
       "0           Electronic check          29.85         29.85    No  \n",
       "1               Mailed check          56.95        1889.5    No  \n",
       "2               Mailed check          53.85        108.15   Yes  \n",
       "3  Bank transfer (automatic)          42.30       1840.75    No  \n",
       "4           Electronic check          70.70        151.65   Yes  \n",
       "\n",
       "[5 rows x 21 columns]"
      ]
     },
     "execution_count": 4,
     "metadata": {},
     "output_type": "execute_result"
    }
   ],
   "source": [
    "df = wrangle(\"telco_churn_dataset.csv\")\n",
    "df.head()"
   ]
  },
  {
   "cell_type": "code",
   "execution_count": 5,
   "id": "72d356bd-4b8a-4bdf-a308-b33b040e0c73",
   "metadata": {},
   "outputs": [
    {
     "data": {
      "text/plain": [
       "customerID          0\n",
       "gender              0\n",
       "SeniorCitizen       0\n",
       "Partner             0\n",
       "Dependents          0\n",
       "tenure              0\n",
       "PhoneService        0\n",
       "MultipleLines       0\n",
       "InternetService     0\n",
       "OnlineSecurity      0\n",
       "OnlineBackup        0\n",
       "DeviceProtection    0\n",
       "TechSupport         0\n",
       "StreamingTV         0\n",
       "StreamingMovies     0\n",
       "Contract            0\n",
       "PaperlessBilling    0\n",
       "PaymentMethod       0\n",
       "MonthlyCharges      0\n",
       "TotalCharges        0\n",
       "Churn               0\n",
       "dtype: int64"
      ]
     },
     "execution_count": 5,
     "metadata": {},
     "output_type": "execute_result"
    }
   ],
   "source": [
    "df.isnull().sum()"
   ]
  },
  {
   "cell_type": "code",
   "execution_count": 15,
   "id": "9e42ee85-612e-4d3a-b507-d4f6b67ac79f",
   "metadata": {},
   "outputs": [
    {
     "data": {
      "image/png": "[encoded data removed]",
      "text/plain": [
       "<Figure size 640x480 with 1 Axes>"
      ]
     },
     "metadata": {},
     "output_type": "display_data"
    }
   ],
   "source": [
    "sns.countplot( data = df, x = \"Churn\")\n",
    "plt.title(\"Total Number of Churn in the Dataset\");"
   ]
  },
  {
   "cell_type": "code",
   "execution_count": 16,
   "id": "a212b344-d696-474c-bb7e-52b6861988fe",
   "metadata": {},
   "outputs": [
    {
     "data": {
      "image/png": "[encoded data removed]",
      "text/plain": [
       "<Figure size 640x480 with 1 Axes>"
      ]
     },
     "metadata": {},
     "output_type": "display_data"
    }
   ],
   "source": [
    "sns.boxplot(x = \"Churn\", y = \"tenure\", data = df)\n",
    "plt.title(\"Most common turnovers\");"
   ]
  },
  {
   "cell_type": "markdown",
   "id": "b71d95c5-228c-4a17-9450-346f8e519c5c",
   "metadata": {},
   "source": [
    "### SPLIT"
   ]
  },
  {
   "cell_type": "code",
   "execution_count": 20,
   "id": "34925a87-31ee-4dcf-a602-8a2118388d61",
   "metadata": {},
   "outputs": [],
   "source": [
    "from sklearn.preprocessing import LabelEncoder, StandardScaler\n",
    "\n",
    "\n",
    "# Encode categorical variables\n",
    "df['Churn'] = LabelEncoder().fit_transform(df['Churn'])\n",
    "df = pd.get_dummies(df, drop_first=True)\n",
    "\n",
    "# Scale numerical features\n",
    "scaler = StandardScaler()\n",
    "df[['tenure', 'MonthlyCharges']] = scaler.fit_transform(df[['tenure', 'MonthlyCharges']])\n",
    "\n",
    "# Split data\n",
    "X = df.drop('Churn', axis=1)\n",
    "y = df['Churn']\n",
    "X_train, X_test, y_train, y_test = train_test_split(X, y, test_size=0.2, random_state=42)"
   ]
  },
  {
   "cell_type": "markdown",
   "id": "576226ac-ba18-4eff-83c3-b7cb4a7fb87d",
   "metadata": {},
   "source": [
    "## BUILD MODEL \n",
    "### BASELINE"
   ]
  },
  {
   "cell_type": "code",
   "execution_count": 22,
   "id": "a1b35595-1e92-4682-82bd-a04747804108",
   "metadata": {},
   "outputs": [
    {
     "name": "stdout",
     "output_type": "stream",
     "text": [
      "baseline accuracy : 0.7344692935747249\n"
     ]
    }
   ],
   "source": [
    "baseline_acc = y_train.value_counts(normalize = True).max()\n",
    "print(\"baseline accuracy :\", baseline_acc)"
   ]
  },
  {
   "cell_type": "markdown",
   "id": "5088e581-5839-4ed2-9b6f-9178c2188698",
   "metadata": {},
   "source": [
    "### ITERATE\n"
   ]
  },
  {
   "cell_type": "code",
   "execution_count": 24,
   "id": "f7b93d3f-9a0c-4d0d-9ad0-f85c7b746220",
   "metadata": {},
   "outputs": [],
   "source": [
    "from sklearn.ensemble import RandomForestClassifier\n",
    "from sklearn.metrics import  classification_report\n",
    "\n",
    "# Train Random Forest\n",
    "model = RandomForestClassifier(random_state=42)\n",
    "model.fit(X_train, y_train)\n",
    "\n",
    "# Predict\n",
    "y_pred = model.predict(X_test)\n"
   ]
  },
  {
   "cell_type": "markdown",
   "id": "da9cd88e-106c-4df6-9c54-2ab25e9ac0ca",
   "metadata": {},
   "source": [
    "### EVALUATE"
   ]
  },
  {
   "cell_type": "code",
   "execution_count": 27,
   "id": "c47a6a35-0006-4473-8fb6-c921c4714342",
   "metadata": {},
   "outputs": [
    {
     "data": {
      "text/plain": [
       "1.0"
      ]
     },
     "execution_count": 27,
     "metadata": {},
     "output_type": "execute_result"
    }
   ],
   "source": [
    "acc_train = accuracy_score(y_train, model.predict(X_train))\n",
    "acc_train"
   ]
  },
  {
   "cell_type": "code",
   "execution_count": 25,
   "id": "0c21c9f9-3942-40b9-ac8f-bececfd7b9e4",
   "metadata": {
    "scrolled": true
   },
   "outputs": [
    {
     "name": "stdout",
     "output_type": "stream",
     "text": [
      "Accuracy: 0.8034066713981547\n",
      "              precision    recall  f1-score   support\n",
      "\n",
      "           0       0.83      0.93      0.87      1036\n",
      "           1       0.70      0.45      0.55       373\n",
      "\n",
      "    accuracy                           0.80      1409\n",
      "   macro avg       0.76      0.69      0.71      1409\n",
      "weighted avg       0.79      0.80      0.79      1409\n",
      "\n"
     ]
    }
   ],
   "source": [
    "print(\"Accuracy:\", accuracy_score(y_test, y_pred))\n",
    "print(classification_report(y_test, y_pred))"
   ]
  },
  {
   "cell_type": "markdown",
   "id": "f949365e-1f98-452c-8f75-75a429c11693",
   "metadata": {},
   "source": [
    "# COMMUNICATE RESULTS"
   ]
  },
  {
   "cell_type": "code",
   "execution_count": 31,
   "id": "84da01c3-d4c2-4f36-a9ad-f7edb817fc7a",
   "metadata": {},
   "outputs": [],
   "source": [
    "# Feature importance\n",
    "importances = model.feature_importances_\n",
    "feature_names = X.columns\n",
    "feature_importance_df = pd.DataFrame({'Feature': feature_names, 'Importance': importances})\n",
    "feature_importance_df = feature_importance_df.sort_values(by='Importance', ascending=False)"
   ]
  },
  {
   "cell_type": "code",
   "execution_count": 35,
   "id": "fd595fc9-7705-4495-9974-61ff45397491",
   "metadata": {},
   "outputs": [
    {
     "data": {
      "text/plain": [
       "Text(0, 0.5, 'Feature')"
      ]
     },
     "execution_count": 35,
     "metadata": {},
     "output_type": "execute_result"
    },
    {
     "data": {
      "image/png": "[encoded data removed]",
      "text/plain": [
       "<Figure size 640x480 with 1 Axes>"
      ]
     },
     "metadata": {},
     "output_type": "display_data"
    }
   ],
   "source": [
    "feature_importance_df.plot(kind = \"bar\")\n",
    "plt.xlabel(\"Gini importance\")\n",
    "plt.ylabel(\"Feature\")"
   ]
  },
  {
   "cell_type": "markdown",
   "id": "68cd6ecd-5a54-4f85-b65c-eea7ed2ba2a3",
   "metadata": {},
   "source": [
    "1. Key Findings: Feature Importance\n",
    "Using the Random Forest Classifier, we analyzed the importance of each feature in predicting customer churn. The top features influencing churn are:\n",
    "\n",
    "Tenure: The length of time a customer has been with the company is the most significant factor. Customers with shorter tenures are more likely to churn.\n",
    "\n",
    "Monthly Charges: Higher monthly charges are strongly associated with churn, suggesting that pricing plays a critical role in customer retention.\n",
    "\n",
    "Contract Type: Customers with month-to-month contracts are more likely to churn compared to those with longer-term contracts (e.g., one-year or two-year contracts).\n",
    "\n",
    "Internet Service: Customers with fiber-optic internet are more likely to churn, possibly due to higher costs or service dissatisfaction.\n",
    "\n",
    "Online Security and Tech Support: Customers without these services are more likely to churn, indicating that additional support features improve retention.\n",
    "\n",
    "These insights align with business intuition: customers who feel they are paying more for less value or flexibility are more likely to leave.\n",
    "\n",
    "2. Why Decision Tree Classifier Might Be a Better Fit\n",
    "While the Random Forest model performed well, a Decision Tree Classifier could be a better fit for this problem because:\n",
    "\n",
    "Interpretability: Decision Trees provide a clear, visual representation of the decision-making process, making it easier to explain to stakeholders.\n",
    "\n",
    "Handling Non-Linear Relationships: Decision Trees naturally capture non-linear relationships between features and the target variable, which might be more effective for this dataset.\n",
    "\n",
    "Hyperparameter Tuning: By tuning hyperparameters like max_depth, min_samples_split, and min_samples_leaf, we can prevent overfitting and improve model performance.\n",
    "\n",
    "Feature Selection: Decision Trees inherently perform feature selection, which can help eliminate less important features and reduce complexity.\n",
    "\n",
    "To implement this, we could:\n",
    "\n",
    "Use GridSearchCV or RandomizedSearchCV to find the optimal max_depth and other hyperparameters.\n",
    "\n",
    "Visualize the decision tree to understand the splits and decision rules.\n"
   ]
  },
  {
   "cell_type": "markdown",
   "id": "0fbb0661-583e-4170-ba45-191fc9684620",
   "metadata": {},
   "source": [
    "3. Improvements Made to the Dataset\n",
    "To improve the model, we made the following changes to the dataset:\n",
    "\n",
    "Encoding the Target Variable: The Churn column was converted from categorical (Yes/No) to numerical (1/0) for modeling.\n",
    "\n",
    "Handling Multicollinearity: Features with high correlation (e.g., TotalCharges and MonthlyCharges) were analyzed, and one of them was dropped to avoid multicollinearity.\n",
    "\n",
    "Dropping Data Leakage: Features that could leak information about the target variable (e.g., customer IDs) were removed.\n",
    "\n",
    "Feature Engineering: New features like TenureGroup (binned tenure) or AvgMonthlyCharges (total charges divided by tenure) could be created to capture more nuanced patterns."
   ]
  },
  {
   "cell_type": "markdown",
   "id": "5fae9668-5d07-4a92-bb3f-91f5bae5c33a",
   "metadata": {},
   "source": [
    "4. Hyperparameter Tuning\n",
    "To optimize the model, we used hyperparameter tuning:\n",
    "\n",
    "For the Random Forest, we tuned parameters like n_estimators, max_depth, and min_samples_split using GridSearchCV.\n",
    "\n",
    "For the Decision Tree, we focused on finding the optimal max_depth to balance bias and varianc"
   ]
  },
  {
   "cell_type": "markdown",
   "id": "b0eeb09b-20c7-4fc6-9c77-39d7fee0940b",
   "metadata": {},
   "source": [
    "5. Business Implications\n",
    "The insights from this project can help the business:\n",
    "\n",
    "Retain High-Risk Customers: By identifying customers with short tenures and high monthly charges, the company can offer targeted discounts or incentives.\n",
    "\n",
    "Improve Service Offerings: Customers without online security or tech support are more likely to churn, so bundling these services could improve retention.\n",
    "\n",
    "Optimize Pricing: High monthly charges are a key driver of churn, so revisiting pricing strategies could help reduce customer attrition."
   ]
  },
  {
   "cell_type": "code",
   "execution_count": null,
   "id": "a682d429-a376-4a93-969d-4aa1e33b3c8c",
   "metadata": {},
   "outputs": [],
   "source": []
  },
  {
   "cell_type": "markdown",
   "id": "1f656954-7c2d-49de-bca3-eb859a5f5aad",
   "metadata": {},
   "source": [
    "## To further improve the model:\n",
    "## Try Advanced Algorithms: Experiment with algorithms like XGBoost or LightGBM, which often outperform Random Forests and Decision Trees.\n",
    "\n",
    "## Feature Engineering: Create additional features like customer usage patterns or interaction terms to capture more complex relationships.\n",
    "\n",
    "## Class Imbalance Handling: If the dataset is imbalanced (e.g., fewer churn cases), use techniques like SMOTE or class weighting to improve model performance."
   ]
  },
  {
   "cell_type": "code",
   "execution_count": null,
   "id": "ed6ae3e9-a5cb-4dd3-8483-2f9be0666bc0",
   "metadata": {},
   "outputs": [],
   "source": []
  }
 ],
 "metadata": {
  "kernelspec": {
   "display_name": "Python 3 (ipykernel)",
   "language": "python",
   "name": "python3"
  },
  "language_info": {
   "codemirror_mode": {
    "name": "ipython",
    "version": 3
   },
   "file_extension": ".py",
   "mimetype": "text/x-python",
   "name": "python",
   "nbconvert_exporter": "python",
   "pygments_lexer": "ipython3",
   "version": "3.12.7"
  }
 },
 "nbformat": 4,
 "nbformat_minor": 5
}
